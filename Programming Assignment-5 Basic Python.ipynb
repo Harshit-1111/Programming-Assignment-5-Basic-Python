{
 "cells": [
  {
   "cell_type": "code",
   "execution_count": 3,
   "id": "41843af3",
   "metadata": {},
   "outputs": [
    {
     "name": "stdout",
     "output_type": "stream",
     "text": [
      "Enter first number 5\n",
      "Enter second number 25\n",
      "The LCM of 5 and 25 is 25\n"
     ]
    }
   ],
   "source": [
    "#Q1 Write a Python Program to Find LCM?\n",
    "a=int(input(\"Enter first number \"))\n",
    "b=int(input(\"Enter second number \"))\n",
    "maxNum= max(a,b)\n",
    "while(True):\n",
    "    if(maxNum%a==0 and maxNum%b==0):\n",
    "        break\n",
    "        maxNum=maxNum+1\n",
    "print(f\"The LCM of {a} and {b} is {maxNum}\")"
   ]
  },
  {
   "cell_type": "code",
   "execution_count": 20,
   "id": "57c4c24a",
   "metadata": {},
   "outputs": [
    {
     "name": "stdout",
     "output_type": "stream",
     "text": [
      "The H.C.F. is 1\n"
     ]
    }
   ],
   "source": [
    "#Q2 Python program to find H.C.F of two numbers\n",
    "\n",
    "def compute_hcf(x, y):\n",
    "    if x > y:\n",
    "        smaller = y\n",
    "    else:\n",
    "        smaller = x\n",
    "    for i in range(1, smaller+1):\n",
    "        if((x % i == 0) and (y % i == 0)):\n",
    "            hcf = i \n",
    "    return hcf\n",
    "num1 = 5 \n",
    "num2 = 2\n",
    "print(\"The H.C.F. is\", compute_hcf(num1, num2))"
   ]
  },
  {
   "cell_type": "code",
   "execution_count": 23,
   "id": "933e01c4",
   "metadata": {},
   "outputs": [
    {
     "name": "stdout",
     "output_type": "stream",
     "text": [
      "Enter your Number5\n",
      "The binary number is 0b101\n",
      "The octal number is 0o5\n",
      "The Hexadecimal number is 0x5\n"
     ]
    }
   ],
   "source": [
    "#Q3 Write a Python Program to Convert Decimal to Binary, Octal and Hexadecimal?\n",
    "a=int(input(\"Enter your Number\"))\n",
    "print(\"The binary number is\",bin(a))\n",
    "print(\"The octal number is\",oct(a))\n",
    "print(\"The Hexadecimal number is\",hex(a))"
   ]
  },
  {
   "cell_type": "code",
   "execution_count": 25,
   "id": "7f23517e",
   "metadata": {},
   "outputs": [
    {
     "name": "stdout",
     "output_type": "stream",
     "text": [
      "The ASCII value of x is 120\n"
     ]
    }
   ],
   "source": [
    "#Q4 Write a Python Program To Find ASCII value of a character?\n",
    "a='x'\n",
    "\n",
    "print(\"The ASCII value of\",a,\"is\",ord(a))"
   ]
  },
  {
   "cell_type": "code",
   "execution_count": null,
   "id": "f591530d",
   "metadata": {},
   "outputs": [
    {
     "name": "stdout",
     "output_type": "stream",
     "text": [
      "Select your operation\n",
      "Addition\n",
      "Subtraction\n",
      "Multiplication\n",
      "Division\n",
      "Enter choice (1/2/3/4):\n",
      "Enter second number: 100\n",
      "Enter choice (1/2/3/4):2\n",
      "Enter first number: 400\n",
      "Enter second number: 2\n",
      "400.0 - 2.0 = 398.0\n"
     ]
    }
   ],
   "source": [
    "#Q5 Write a Python Program to Make a Simple Calculator with 4 basic mathematical operations?\n",
    "def add(a,b):\n",
    "    return a+b\n",
    "def mul(a,b):\n",
    "    return a*b\n",
    "def sub(a,b):\n",
    "    return a-b\n",
    "def div(a,b):\n",
    "    return a/b\n",
    "print(\"Select your operation\")\n",
    "print(\"Addition\")\n",
    "print(\"Subtraction\")\n",
    "print(\"Multiplication\")\n",
    "print(\"Division\")\n",
    "while(True):\n",
    "        choice= input(\"Enter choice (1/2/3/4):\")\n",
    "        if choice in ('1','2','3','4'):\n",
    "            num1 = float(input(\"Enter first number: \"))\n",
    "        num2 = float(input(\"Enter second number: \"))\n",
    "\n",
    "        if choice == '1':\n",
    "            print(num1, \"+\", num2, \"=\", add(num1, num2))\n",
    "\n",
    "        elif choice == '2':\n",
    "            print(num1, \"-\", num2, \"=\", sub(num1, num2))\n",
    "\n",
    "        elif choice == '3':\n",
    "            print(num1, \"*\", num2, \"=\", mul(num1, num2))\n",
    "\n",
    "        elif choice == '4':\n",
    "            print(num1, \"/\", num2, \"=\", div(num1, num2))\n"
   ]
  },
  {
   "cell_type": "code",
   "execution_count": null,
   "id": "a645fd63",
   "metadata": {},
   "outputs": [],
   "source": []
  },
  {
   "cell_type": "code",
   "execution_count": null,
   "id": "a0021938",
   "metadata": {},
   "outputs": [],
   "source": []
  }
 ],
 "metadata": {
  "kernelspec": {
   "display_name": "Python 3 (ipykernel)",
   "language": "python",
   "name": "python3"
  },
  "language_info": {
   "codemirror_mode": {
    "name": "ipython",
    "version": 3
   },
   "file_extension": ".py",
   "mimetype": "text/x-python",
   "name": "python",
   "nbconvert_exporter": "python",
   "pygments_lexer": "ipython3",
   "version": "3.9.7"
  }
 },
 "nbformat": 4,
 "nbformat_minor": 5
}
